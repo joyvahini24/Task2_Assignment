{
 "cells": [
  {
   "cell_type": "code",
   "execution_count": 1,
   "id": "1d73a783",
   "metadata": {},
   "outputs": [
    {
     "ename": "SyntaxError",
     "evalue": "invalid syntax (18081040.py, line 1)",
     "output_type": "error",
     "traceback": [
      "\u001b[1;36m  File \u001b[1;32m\"C:\\Users\\DELL\\AppData\\Local\\Temp\\ipykernel_14676\\18081040.py\"\u001b[1;36m, line \u001b[1;32m1\u001b[0m\n\u001b[1;33m    url: https://medium.com/\u001b[0m\n\u001b[1;37m              ^\u001b[0m\n\u001b[1;31mSyntaxError\u001b[0m\u001b[1;31m:\u001b[0m invalid syntax\n"
     ]
    }
   ],
   "source": [
    "url: https://medium.com/\n",
    "\n",
    "Our story\n",
    "\n",
    "Membership\n",
    "\n",
    "Write\n",
    "\n",
    "Sign In\n",
    "\n",
    "Trending on Medium\n",
    "\n",
    "Discover more of what matters to you\n",
    "\n",
    "Programming\n",
    "\n",
    "Data Science\n",
    "\n",
    "Technology\n",
    "\n",
    "Self Improvement\n",
    "\n",
    "Writing\n",
    "\n",
    "Relationships\n",
    "\n",
    "Machine Learning\n",
    "\n",
    "Productivity\n",
    "\n",
    "Politics\n",
    "\n",
    "Discover more of what matters to you\n",
    "\n",
    "Programming\n",
    "\n",
    "Data Science\n",
    "\n",
    "Technology\n",
    "\n",
    "Self Improvement\n",
    "\n",
    "Writing\n",
    "\n",
    "Relationships\n",
    "\n",
    "Machine Learning\n",
    "\n",
    "Productivity\n",
    "\n",
    "Politics\n",
    "\n",
    "Help\n",
    "\n",
    "Status\n",
    "\n",
    "Writers\n",
    "\n",
    "Blog\n",
    "\n",
    "Careers\n",
    "\n",
    "Privacy\n",
    "\n",
    "Terms\n",
    "\n",
    "About\n",
    "\n",
    "Text to speech\n",
    "\n",
    "AboutHelpTermsPrivacy\n",
    "\n",
    "\n",
    "\n"
   ]
  },
  {
   "cell_type": "code",
   "execution_count": null,
   "id": "68690e20",
   "metadata": {},
   "outputs": [],
   "source": []
  }
 ],
 "metadata": {
  "kernelspec": {
   "display_name": "Python 3 (ipykernel)",
   "language": "python",
   "name": "python3"
  },
  "language_info": {
   "codemirror_mode": {
    "name": "ipython",
    "version": 3
   },
   "file_extension": ".py",
   "mimetype": "text/x-python",
   "name": "python",
   "nbconvert_exporter": "python",
   "pygments_lexer": "ipython3",
   "version": "3.9.13"
  }
 },
 "nbformat": 4,
 "nbformat_minor": 5
}
